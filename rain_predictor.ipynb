{
 "cells": [
  {
   "cell_type": "code",
   "execution_count": 69,
   "metadata": {},
   "outputs": [],
   "source": [
    "import sqlite3\n",
    "\n",
    "import ipywidgets as widgets\n",
    "import numpy as np\n",
    "import tensorflow as tf\n",
    "from IPython.display import display\n",
    "from sklearn.model_selection import train_test_split\n",
    "from sklearn.preprocessing import StandardScaler"
   ]
  },
  {
   "cell_type": "code",
   "execution_count": 70,
   "metadata": {},
   "outputs": [],
   "source": [
    "# Schritt 1: Daten aus der SQLite-Datenbank extrahieren\n",
    "def load_data_from_db(db_path):\n",
    "    conn = sqlite3.connect(db_path)\n",
    "    cursor = conn.cursor()\n",
    "\n",
    "    cursor.execute(\n",
    "        'SELECT temperature, humidity, pressure, precipitation_probability FROM weather'\n",
    "    )\n",
    "    data = cursor.fetchall()\n",
    "\n",
    "    conn.close()\n",
    "\n",
    "    # Umwandlung in NumPy-Array für einfache Handhabung\n",
    "    data = np.array(data)\n",
    "    X = data[:, :-1]  # temperature, humidity, pressure\n",
    "    y = data[:, -1]  # precipitation_probability\n",
    "\n",
    "    # Konvertiere precipitation_probability in 0 und 1\n",
    "    y = (y == 100).astype(int)\n",
    "\n",
    "    return X, y"
   ]
  },
  {
   "cell_type": "code",
   "execution_count": 71,
   "metadata": {},
   "outputs": [
    {
     "name": "stdout",
     "output_type": "stream",
     "text": [
      "Epoch 1/100\n",
      "9/9 [==============================] - 1s 22ms/step - loss: 0.6455 - accuracy: 0.6885 - val_loss: 0.6101 - val_accuracy: 0.8636\n",
      "Epoch 2/100\n",
      "9/9 [==============================] - 0s 7ms/step - loss: 0.5575 - accuracy: 0.8385 - val_loss: 0.5211 - val_accuracy: 0.8636\n",
      "Epoch 3/100\n",
      "9/9 [==============================] - 0s 5ms/step - loss: 0.4939 - accuracy: 0.8385 - val_loss: 0.4361 - val_accuracy: 0.8636\n",
      "Epoch 4/100\n",
      "9/9 [==============================] - 0s 5ms/step - loss: 0.4262 - accuracy: 0.8385 - val_loss: 0.3778 - val_accuracy: 0.8636\n",
      "Epoch 5/100\n",
      "9/9 [==============================] - 0s 5ms/step - loss: 0.4183 - accuracy: 0.8385 - val_loss: 0.3551 - val_accuracy: 0.8636\n",
      "Epoch 6/100\n",
      "9/9 [==============================] - 0s 5ms/step - loss: 0.4203 - accuracy: 0.8385 - val_loss: 0.3441 - val_accuracy: 0.8636\n",
      "Epoch 7/100\n",
      "9/9 [==============================] - 0s 5ms/step - loss: 0.3806 - accuracy: 0.8385 - val_loss: 0.3385 - val_accuracy: 0.8636\n",
      "Epoch 8/100\n",
      "9/9 [==============================] - 0s 5ms/step - loss: 0.4026 - accuracy: 0.8385 - val_loss: 0.3336 - val_accuracy: 0.8636\n",
      "Epoch 9/100\n",
      "9/9 [==============================] - 0s 5ms/step - loss: 0.4009 - accuracy: 0.8385 - val_loss: 0.3356 - val_accuracy: 0.8636\n",
      "Epoch 10/100\n",
      "9/9 [==============================] - 0s 5ms/step - loss: 0.3898 - accuracy: 0.8385 - val_loss: 0.3281 - val_accuracy: 0.8636\n",
      "Epoch 11/100\n",
      "9/9 [==============================] - 0s 5ms/step - loss: 0.3866 - accuracy: 0.8385 - val_loss: 0.3227 - val_accuracy: 0.8636\n",
      "Epoch 12/100\n",
      "9/9 [==============================] - 0s 6ms/step - loss: 0.3806 - accuracy: 0.8385 - val_loss: 0.3202 - val_accuracy: 0.8636\n",
      "Epoch 13/100\n",
      "9/9 [==============================] - 0s 6ms/step - loss: 0.3905 - accuracy: 0.8385 - val_loss: 0.3172 - val_accuracy: 0.8636\n",
      "Epoch 14/100\n",
      "9/9 [==============================] - 0s 6ms/step - loss: 0.3947 - accuracy: 0.8385 - val_loss: 0.3182 - val_accuracy: 0.8636\n",
      "Epoch 15/100\n",
      "9/9 [==============================] - 0s 5ms/step - loss: 0.3782 - accuracy: 0.8385 - val_loss: 0.3176 - val_accuracy: 0.8636\n",
      "Epoch 16/100\n",
      "9/9 [==============================] - 0s 5ms/step - loss: 0.4016 - accuracy: 0.8385 - val_loss: 0.3200 - val_accuracy: 0.8636\n",
      "Epoch 17/100\n",
      "9/9 [==============================] - 0s 5ms/step - loss: 0.3797 - accuracy: 0.8385 - val_loss: 0.3190 - val_accuracy: 0.8636\n",
      "Epoch 18/100\n",
      "9/9 [==============================] - 0s 5ms/step - loss: 0.3742 - accuracy: 0.8385 - val_loss: 0.3191 - val_accuracy: 0.8636\n",
      "3/3 [==============================] - 0s 2ms/step - loss: 0.3536 - accuracy: 0.8049\n",
      "Test Loss: 0.3536197245121002\n",
      "Test Accuracy: 0.8048780560493469\n"
     ]
    }
   ],
   "source": [
    "# Lade die Daten\n",
    "db_path = 'labeled.sqlite'\n",
    "X, y = load_data_from_db(db_path)\n",
    "\n",
    "# Schritt 2: Daten normalisieren und vorbereiten\n",
    "scaler = StandardScaler()\n",
    "X = scaler.fit_transform(X)\n",
    "\n",
    "X_train, X_test, y_train, y_test = train_test_split(\n",
    "    X, y, test_size=0.2, random_state=42\n",
    ")\n",
    "\n",
    "# Schritt 3: Baue das neuronale Netzwerk\n",
    "# model = tf.keras.Sequential(\n",
    "#     [\n",
    "#         tf.keras.layers.Dense(64, activation='relu', input_shape=(X_train.shape[1],)),\n",
    "#         tf.keras.layers.Dropout(0.5),  # Dropout-Schicht hinzufügen\n",
    "#         tf.keras.layers.Dense(64, activation='relu'),\n",
    "#         tf.keras.layers.Dropout(0.5),  # Dropout-Schicht hinzufügen\n",
    "#         tf.keras.layers.Dense(1, activation='sigmoid'),\n",
    "#     ]\n",
    "# )\n",
    "model = tf.keras.Sequential(\n",
    "    [\n",
    "        tf.keras.layers.Dense(128, activation='relu', input_shape=(X_train.shape[1],)),\n",
    "        tf.keras.layers.Dropout(0.5),  # Dropout-Schicht hinzufügen\n",
    "        tf.keras.layers.Dense(64, activation='relu'),\n",
    "        tf.keras.layers.Dropout(0.5),  # Dropout-Schicht hinzufügen\n",
    "        tf.keras.layers.Dense(32, activation='relu'),\n",
    "        tf.keras.layers.Dense(1, activation='sigmoid'),\n",
    "    ]\n",
    ")\n",
    "\n",
    "# Schritt 4: Kompiliere das Modell\n",
    "optimizer = tf.keras.optimizers.Adam(learning_rate=0.001)\n",
    "# model.compile(optimizer=optimizer, loss='binary_crossentropy', metrics=['accuracy'])\n",
    "model.compile(optimizer='adam', loss='binary_crossentropy', metrics=['accuracy'])\n",
    "\n",
    "# Schritt 5: Trainiere das Modell mit Early Stopping\n",
    "early_stopping = tf.keras.callbacks.EarlyStopping(\n",
    "    monitor='val_loss', patience=5, restore_best_weights=True\n",
    ")\n",
    "history = model.fit(\n",
    "    X_train,\n",
    "    y_train,\n",
    "    epochs=100,\n",
    "    batch_size=32,\n",
    "    validation_split=0.2,\n",
    "    callbacks=[early_stopping],\n",
    ")\n",
    "\n",
    "# Schritt 6: Evaluiere das Modell\n",
    "loss, accuracy = model.evaluate(X_test, y_test)\n",
    "print('Test Loss:', loss)\n",
    "print('Test Accuracy:', accuracy)"
   ]
  },
  {
   "cell_type": "code",
   "execution_count": 72,
   "metadata": {},
   "outputs": [],
   "source": [
    "def predict_rain(temperature, humidity, pressure):\n",
    "    # Vorhersage machen\n",
    "    input_data = scaler.transform([[temperature, humidity, pressure]])\n",
    "    prediction = model.predict(input_data)\n",
    "    rain_probability = prediction[0][0]\n",
    "    print(f'Predicted Rain Probability: {rain_probability:.2f}')"
   ]
  },
  {
   "cell_type": "code",
   "execution_count": 73,
   "metadata": {},
   "outputs": [],
   "source": [
    "# # Interaktive Widgets erstellen\n",
    "# temperature_slider = widgets.FloatSlider(\n",
    "#     min=-30, max=50, step=0.1, description='Temperature:'\n",
    "# )\n",
    "# humidity_slider = widgets.FloatSlider(min=0, max=100, step=0.1, description='Humidity:')\n",
    "# pressure_slider = widgets.FloatSlider(\n",
    "#     min=900, max=1100, step=0.01, description='Pressure:'\n",
    "# )\n",
    "# Interaktive Textfelder erstellen\n",
    "temperature_input = widgets.FloatText(value=0.0, description='Temperature:')\n",
    "humidity_input = widgets.FloatText(value=0.0, description='Humidity:')\n",
    "pressure_input = widgets.FloatText(value=0.0, description='Pressure:')"
   ]
  },
  {
   "cell_type": "code",
   "execution_count": 74,
   "metadata": {},
   "outputs": [],
   "source": [
    "# Button erstellen, um Vorhersage auszulösen\n",
    "predict_button = widgets.Button(description='Predict')\n",
    "output = widgets.Output()\n",
    "\n",
    "\n",
    "# def on_predict_button_clicked(b):\n",
    "#     with output:\n",
    "#         output.clear_output()\n",
    "#         predict_rain(\n",
    "#             temperature_slider.value, humidity_slider.value, pressure_slider.value\n",
    "#         )\n",
    "def on_predict_button_clicked(b):\n",
    "    with output:\n",
    "        output.clear_output()\n",
    "        predict_rain(\n",
    "            temperature_input.value, humidity_input.value, pressure_input.value\n",
    "        )\n",
    "\n",
    "\n",
    "predict_button.on_click(on_predict_button_clicked)"
   ]
  },
  {
   "cell_type": "code",
   "execution_count": 75,
   "metadata": {},
   "outputs": [
    {
     "data": {
      "application/vnd.jupyter.widget-view+json": {
       "model_id": "f0dafeb693d1458995b144ffa29b122c",
       "version_major": 2,
       "version_minor": 0
      },
      "text/plain": [
       "FloatText(value=0.0, description='Temperature:')"
      ]
     },
     "metadata": {},
     "output_type": "display_data"
    },
    {
     "data": {
      "application/vnd.jupyter.widget-view+json": {
       "model_id": "7e411234a5bb466f9706db173e3eaa62",
       "version_major": 2,
       "version_minor": 0
      },
      "text/plain": [
       "FloatText(value=0.0, description='Humidity:')"
      ]
     },
     "metadata": {},
     "output_type": "display_data"
    },
    {
     "data": {
      "application/vnd.jupyter.widget-view+json": {
       "model_id": "3840bc7ea4ff4bb086cc07e34887912f",
       "version_major": 2,
       "version_minor": 0
      },
      "text/plain": [
       "FloatText(value=0.0, description='Pressure:')"
      ]
     },
     "metadata": {},
     "output_type": "display_data"
    },
    {
     "data": {
      "application/vnd.jupyter.widget-view+json": {
       "model_id": "bf0ac5b11bbf4f0fa552d01e14df7a62",
       "version_major": 2,
       "version_minor": 0
      },
      "text/plain": [
       "Button(description='Predict', style=ButtonStyle())"
      ]
     },
     "metadata": {},
     "output_type": "display_data"
    },
    {
     "data": {
      "application/vnd.jupyter.widget-view+json": {
       "model_id": "1e430dbda1224921977b654821d25d38",
       "version_major": 2,
       "version_minor": 0
      },
      "text/plain": [
       "Output()"
      ]
     },
     "metadata": {},
     "output_type": "display_data"
    }
   ],
   "source": [
    "# Widgets anzeigen\n",
    "# display(temperature_slider, humidity_slider, pressure_slider, predict_button, output)\n",
    "display(temperature_input, humidity_input, pressure_input, predict_button, output)"
   ]
  },
  {
   "cell_type": "code",
   "execution_count": null,
   "metadata": {},
   "outputs": [],
   "source": []
  }
 ],
 "metadata": {
  "kernelspec": {
   "display_name": "Python 3 (ipykernel)",
   "language": "python",
   "name": "python3"
  },
  "language_info": {
   "codemirror_mode": {
    "name": "ipython",
    "version": 3
   },
   "file_extension": ".py",
   "mimetype": "text/x-python",
   "name": "python",
   "nbconvert_exporter": "python",
   "pygments_lexer": "ipython3",
   "version": "3.11.5"
  }
 },
 "nbformat": 4,
 "nbformat_minor": 2
}
